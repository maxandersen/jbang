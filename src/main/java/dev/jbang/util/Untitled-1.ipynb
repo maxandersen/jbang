{
 "cells": [
  {
   "cell_type": "code",
   "execution_count": 3,
   "metadata": {
    "vscode": {
     "languageId": "java"
    }
   },
   "outputs": [],
   "source": [
    "%maven org.dflib:dflib-jupyter:1.0.0"
   ]
  },
  {
   "cell_type": "code",
   "execution_count": 5,
   "metadata": {
    "vscode": {
     "languageId": "java"
    }
   },
   "outputs": [],
   "source": [
    "import java.util.stream.IntStream;"
   ]
  },
  {
   "cell_type": "code",
   "execution_count": 10,
   "metadata": {
    "vscode": {
     "languageId": "java"
    }
   },
   "outputs": [
    {
     "data": {
      "text/plain": [
       "\n",
       "a b c\n",
       "- - -\n",
       "1 3 5\n",
       "2 4 6\n",
       "2 rows x 3 columns"
      ]
     },
     "execution_count": 10,
     "metadata": {},
     "output_type": "execute_result"
    }
   ],
   "source": [
    "DataFrame df = DataFrame.foldByColumn(\"a\", \"b\", \"c\")\n",
    "    .ofInts(-1, 1, 2, 3, 4, 5, 6);\n",
    "\n",
    "    df"
   ]
  },
  {
   "cell_type": "code",
   "execution_count": 17,
   "metadata": {
    "vscode": {
     "languageId": "java"
    }
   },
   "outputs": [],
   "source": []
  },
  {
   "cell_type": "code",
   "execution_count": 23,
   "metadata": {
    "vscode": {
     "languageId": "java"
    }
   },
   "outputs": [
    {
     "data": {
      "text/html": [
       "<script type='text/javascript' src='https://cdn.jsdelivr.net/npm/echarts@5.5.1/dist/echarts.min.js'></script>\n",
       "<div id='dfl_ech_6792' style='width: 600px;height:400px;'></div>\n",
       "<script type='text/javascript'>\n",
       "    var chart_dfl_ech_6792 = echarts.init(\n",
       "        document.getElementById('dfl_ech_6792'),\n",
       "        null,\n",
       "   );\n",
       "    var option_dfl_ech_6792 = {\n",
       "        dataset: {\n",
       "            source: [\n",
       "                ['L0','J. Cosin','J. O\\'Hara','J. Walewski'],\n",
       "                ['salary',120000,95000,80000]\n",
       "            ]\n",
       "        },\n",
       "        xAxis: [\n",
       "        {\n",
       "            type: 'category'\n",
       "        },\n",
       "        ],\n",
       "        yAxis: [\n",
       "        {\n",
       "            type: 'value'\n",
       "        },\n",
       "        ],\n",
       "        series: [\n",
       "            {\n",
       "                name: 'salary',\n",
       "                encode: {\n",
       "                    x: 0,\n",
       "                    y: 1,\n",
       "                },\n",
       "                seriesLayoutBy: 'row',\n",
       "                type: 'bar'\n",
       "            },\n",
       "        ]\n",
       "    };\n",
       "    option_dfl_ech_6792 && chart_dfl_ech_6792.setOption(option_dfl_ech_6792);</script>"
      ],
      "text/plain": [
       "<script type='text/javascript' src='https://cdn.jsdelivr.net/npm/echarts@5.5.1/dist/echarts.min.js'></script>\n",
       "<div id='dfl_ech_6792' style='width: 600px;height:400px;'></div>\n",
       "<script type='text/javascript'>\n",
       "    var chart_dfl_ech_6792 = echarts.init(\n",
       "        document.getElementById('dfl_ech_6792'),\n",
       "        null,\n",
       "   );\n",
       "    var option_dfl_ech_6792 = {\n",
       "        dataset: {\n",
       "            source: [\n",
       "                ['L0','J. Cosin','J. O\\'Hara','J. Walewski'],\n",
       "                ['salary',120000,95000,80000]\n",
       "            ]\n",
       "        },\n",
       "        xAxis: [\n",
       "        {\n",
       "            type: 'category'\n",
       "        },\n",
       "        ],\n",
       "        yAxis: [\n",
       "        {\n",
       "            type: 'value'\n",
       "        },\n",
       "        ],\n",
       "        series: [\n",
       "            {\n",
       "                name: 'salary',\n",
       "                encode: {\n",
       "                    x: 0,\n",
       "                    y: 1,\n",
       "                },\n",
       "                seriesLayoutBy: 'row',\n",
       "                type: 'bar'\n",
       "            },\n",
       "        ]\n",
       "    };\n",
       "    option_dfl_ech_6792 && chart_dfl_ech_6792.setOption(option_dfl_ech_6792);</script>"
      ]
     },
     "metadata": {},
     "output_type": "display_data"
    },
    {
     "data": {
      "text/plain": [
       "e33ccdca-6e02-45a2-997c-c4754b1b8a61"
      ]
     },
     "execution_count": 23,
     "metadata": {},
     "output_type": "execute_result"
    }
   ],
   "source": [
    "import org.dflib.echarts.*;\n",
    "\n",
    "DataFrame df = DataFrame.foldByRow(\"name\", \"salary\").of(\n",
    "                \"J. Cosin\", 120000,\n",
    "                \"J. Walewski\", 80000,\n",
    "                \"J. O'Hara\", 95000)\n",
    "        .sort($col(\"salary\").desc());\n",
    "\n",
    "var chart = ECharts\n",
    "        .chart()\n",
    "        .xAxis(\"name\")\n",
    "        .series(SeriesOpts.ofBar(), \"salary\")\n",
    "        .plot(df);\n",
    "\n",
    "chart;"
   ]
  },
  {
   "cell_type": "code",
   "execution_count": null,
   "metadata": {
    "vscode": {
     "languageId": "java"
    }
   },
   "outputs": [],
   "source": []
  },
  {
   "cell_type": "code",
   "execution_count": null,
   "metadata": {
    "vscode": {
     "languageId": "java"
    }
   },
   "outputs": [],
   "source": []
  }
 ],
 "metadata": {
  "kernelspec": {
   "display_name": "java (JJava/j!)",
   "language": "java",
   "name": "jbang-jjava"
  },
  "language_info": {
   "codemirror_mode": "java",
   "file_extension": ".jshell",
   "mimetype": "text/x-java-source",
   "name": "Java",
   "pygments_lexer": "java",
   "version": "21.0.5+11-LTS"
  }
 },
 "nbformat": 4,
 "nbformat_minor": 2
}
